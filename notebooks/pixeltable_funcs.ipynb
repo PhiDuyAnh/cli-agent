{
 "cells": [
  {
   "cell_type": "code",
   "execution_count": null,
   "id": "d4c398a5",
   "metadata": {},
   "outputs": [],
   "source": [
    "import uuid\n",
    "from datetime import datetime\n",
    "\n",
    "import pixeltable as pxt"
   ]
  },
  {
   "cell_type": "markdown",
   "id": "fc76e8b8",
   "metadata": {},
   "source": [
    "## Test Pixeltable functions"
   ]
  },
  {
   "cell_type": "code",
   "execution_count": 5,
   "id": "d4f29ff2",
   "metadata": {},
   "outputs": [
    {
     "data": {
      "text/plain": [
       "[]"
      ]
     },
     "execution_count": 5,
     "metadata": {},
     "output_type": "execute_result"
    }
   ],
   "source": [
    "pxt.list_dirs()"
   ]
  },
  {
   "cell_type": "code",
   "execution_count": 4,
   "id": "2aa5bede",
   "metadata": {},
   "outputs": [],
   "source": [
    "for dir in pxt.list_dirs():\n",
    "    pxt.drop_dir(dir, if_not_exists=\"ignore\", force=True)"
   ]
  },
  {
   "cell_type": "code",
   "execution_count": 6,
   "id": "06f59418",
   "metadata": {},
   "outputs": [],
   "source": [
    "memory_table = pxt.get_table(f\"{pxt.list_dirs()[0]}.memory\")"
   ]
  },
  {
   "cell_type": "code",
   "execution_count": null,
   "id": "532f6e80",
   "metadata": {},
   "outputs": [],
   "source": [
    "memory_table.collect()"
   ]
  },
  {
   "cell_type": "code",
   "execution_count": 24,
   "id": "b160d9e7",
   "metadata": {},
   "outputs": [
    {
     "name": "stdout",
     "output_type": "stream",
     "text": [
      "Created directory 'test3'.\n",
      "Created table 'memory'.\n"
     ]
    },
    {
     "data": {
      "text/html": [
       "<style type=\"text/css\">\n",
       "#T_d3902_row0_col0 {\n",
       "  white-space: pre-wrap;\n",
       "  text-align: left;\n",
       "  font-weight: bold;\n",
       "}\n",
       "</style>\n",
       "<table id=\"T_d3902\">\n",
       "  <thead>\n",
       "  </thead>\n",
       "  <tbody>\n",
       "    <tr>\n",
       "      <td id=\"T_d3902_row0_col0\" class=\"data row0 col0\" >table 'test3.memory'</td>\n",
       "    </tr>\n",
       "  </tbody>\n",
       "</table>\n",
       "\n",
       "<style type=\"text/css\">\n",
       "#T_5e471 th {\n",
       "  text-align: left;\n",
       "}\n",
       "#T_5e471_row0_col0, #T_5e471_row0_col1, #T_5e471_row0_col2, #T_5e471_row1_col0, #T_5e471_row1_col1, #T_5e471_row1_col2, #T_5e471_row2_col0, #T_5e471_row2_col1, #T_5e471_row2_col2, #T_5e471_row3_col0, #T_5e471_row3_col1, #T_5e471_row3_col2 {\n",
       "  white-space: pre-wrap;\n",
       "  text-align: left;\n",
       "}\n",
       "</style>\n",
       "<table id=\"T_5e471\">\n",
       "  <thead>\n",
       "    <tr>\n",
       "      <th id=\"T_5e471_level0_col0\" class=\"col_heading level0 col0\" >Column Name</th>\n",
       "      <th id=\"T_5e471_level0_col1\" class=\"col_heading level0 col1\" >Type</th>\n",
       "      <th id=\"T_5e471_level0_col2\" class=\"col_heading level0 col2\" >Computed With</th>\n",
       "    </tr>\n",
       "  </thead>\n",
       "  <tbody>\n",
       "    <tr>\n",
       "      <td id=\"T_5e471_row0_col0\" class=\"data row0 col0\" >message_id</td>\n",
       "      <td id=\"T_5e471_row0_col1\" class=\"data row0 col1\" >String</td>\n",
       "      <td id=\"T_5e471_row0_col2\" class=\"data row0 col2\" ></td>\n",
       "    </tr>\n",
       "    <tr>\n",
       "      <td id=\"T_5e471_row1_col0\" class=\"data row1 col0\" >role</td>\n",
       "      <td id=\"T_5e471_row1_col1\" class=\"data row1 col1\" >String</td>\n",
       "      <td id=\"T_5e471_row1_col2\" class=\"data row1 col2\" ></td>\n",
       "    </tr>\n",
       "    <tr>\n",
       "      <td id=\"T_5e471_row2_col0\" class=\"data row2 col0\" >content</td>\n",
       "      <td id=\"T_5e471_row2_col1\" class=\"data row2 col1\" >String</td>\n",
       "      <td id=\"T_5e471_row2_col2\" class=\"data row2 col2\" ></td>\n",
       "    </tr>\n",
       "    <tr>\n",
       "      <td id=\"T_5e471_row3_col0\" class=\"data row3 col0\" >timestamp</td>\n",
       "      <td id=\"T_5e471_row3_col1\" class=\"data row3 col1\" >Timestamp</td>\n",
       "      <td id=\"T_5e471_row3_col2\" class=\"data row3 col2\" ></td>\n",
       "    </tr>\n",
       "  </tbody>\n",
       "</table>\n"
      ],
      "text/plain": [
       "table 'test3.memory'\n",
       "\n",
       " Column Name       Type Computed With\n",
       "  message_id     String              \n",
       "        role     String              \n",
       "     content     String              \n",
       "   timestamp  Timestamp              "
      ]
     },
     "execution_count": 24,
     "metadata": {},
     "output_type": "execute_result"
    }
   ],
   "source": [
    "pxt.create_dir(\"test3\", if_exists=\"replace_force\")\n",
    "pxt.create_table(\n",
    "    \"test3.memory\",\n",
    "    schema={\n",
    "        \"message_id\": pxt.String,\n",
    "        \"role\": pxt.String,\n",
    "        \"content\": pxt.String,\n",
    "        \"timestamp\": pxt.Timestamp\n",
    "    },\n",
    "    if_exists=\"ignore\",\n",
    ")"
   ]
  },
  {
   "cell_type": "code",
   "execution_count": 25,
   "id": "420cf97d",
   "metadata": {},
   "outputs": [
    {
     "name": "stdout",
     "output_type": "stream",
     "text": [
      "Inserting rows into `memory`: 1 rows [00:00, 344.56 rows/s]"
     ]
    },
    {
     "name": "stdout",
     "output_type": "stream",
     "text": [
      "\n",
      "Inserted 1 row with 0 errors.\n",
      "Inserting rows into `memory`: 1 rows [00:00, 471.64 rows/s]\n",
      "Inserted 1 row with 0 errors.\n",
      "Inserting rows into `memory`: 1 rows [00:00, 565.96 rows/s]\n",
      "Inserted 1 row with 0 errors.\n",
      "Inserting rows into `memory`: 1 rows [00:00, 410.92 rows/s]\n",
      "Inserted 1 row with 0 errors.\n"
     ]
    },
    {
     "data": {
      "text/plain": [
       "1 row inserted, 3 values computed."
      ]
     },
     "execution_count": 25,
     "metadata": {},
     "output_type": "execute_result"
    }
   ],
   "source": [
    "new_table = pxt.get_table(\"test3.memory\")\n",
    "\n",
    "new_table.insert([{\n",
    "    \"message_id\": str(uuid.uuid4()),\n",
    "    \"role\": \"user\",\n",
    "    \"content\": \"Hello World\",\n",
    "    \"timestamp\": datetime.now()\n",
    "}])\n",
    "\n",
    "new_table.insert([{\n",
    "    \"message_id\": str(uuid.uuid4()),\n",
    "    \"role\": \"assistant\",\n",
    "    \"content\": \"Hello back\",\n",
    "    \"timestamp\": datetime.now()\n",
    "}])\n",
    "\n",
    "new_table.insert([{\n",
    "    \"message_id\": str(uuid.uuid4()),\n",
    "    \"role\": \"system\",\n",
    "    \"content\": \"World\",\n",
    "    \"timestamp\": datetime.now()\n",
    "}])\n",
    "\n",
    "new_table.insert([{\n",
    "    \"message_id\": str(uuid.uuid4()),\n",
    "    \"role\": \"user\",\n",
    "    \"content\": \"Hello World!!!!\",\n",
    "    \"timestamp\": datetime.now()\n",
    "}])"
   ]
  },
  {
   "cell_type": "code",
   "execution_count": 27,
   "id": "8f4d3c5f",
   "metadata": {},
   "outputs": [
    {
     "name": "stdout",
     "output_type": "stream",
     "text": [
      "{'message_id': '4868ede8-66f5-43c7-91d0-6bf9da71cb1a', 'role': 'user', 'content': 'Hello World!!!!', 'timestamp': datetime.datetime(2025, 9, 28, 11, 39, 30, 674882, tzinfo=zoneinfo.ZoneInfo(key='Asia/Bangkok'))}\n",
      "{'message_id': '8d514d43-e538-4759-bed9-c9629d80ee4d', 'role': 'user', 'content': 'Hello World', 'timestamp': datetime.datetime(2025, 9, 28, 11, 39, 30, 321502, tzinfo=zoneinfo.ZoneInfo(key='Asia/Bangkok'))}\n"
     ]
    }
   ],
   "source": [
    "for record in reversed(new_table.collect()):\n",
    "    if record[\"role\"] == \"user\":\n",
    "        print(record)"
   ]
  },
  {
   "cell_type": "code",
   "execution_count": null,
   "id": "c4fa4416",
   "metadata": {},
   "outputs": [],
   "source": [
    "hist = pxt.get_table(\"test3.memory\").history()[\"created_at\"][0].to_pydatetime().astimezone()\n",
    "hist"
   ]
  },
  {
   "cell_type": "code",
   "execution_count": null,
   "id": "3e0c59fd",
   "metadata": {},
   "outputs": [
    {
     "data": {
      "text/plain": [
       "4 rows deleted."
      ]
     },
     "execution_count": 17,
     "metadata": {},
     "output_type": "execute_result"
    }
   ],
   "source": [
    "new_table.where(new_table.role.isin([\"user\", \"assistant\"])).delete()"
   ]
  },
  {
   "cell_type": "code",
   "execution_count": 22,
   "id": "2e4ecb9c",
   "metadata": {},
   "outputs": [],
   "source": [
    "pxt.drop_dir(\"test\", if_not_exists=\"ignore\", force=True)"
   ]
  },
  {
   "cell_type": "code",
   "execution_count": null,
   "id": "1d381fa3",
   "metadata": {},
   "outputs": [],
   "source": []
  }
 ],
 "metadata": {
  "kernelspec": {
   "display_name": "cli-agent",
   "language": "python",
   "name": "python3"
  },
  "language_info": {
   "codemirror_mode": {
    "name": "ipython",
    "version": 3
   },
   "file_extension": ".py",
   "mimetype": "text/x-python",
   "name": "python",
   "nbconvert_exporter": "python",
   "pygments_lexer": "ipython3",
   "version": "3.12.3"
  }
 },
 "nbformat": 4,
 "nbformat_minor": 5
}
